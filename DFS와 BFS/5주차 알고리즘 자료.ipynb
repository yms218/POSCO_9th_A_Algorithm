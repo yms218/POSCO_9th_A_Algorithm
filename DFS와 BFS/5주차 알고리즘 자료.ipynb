{
 "cells": [
  {
   "cell_type": "markdown",
   "metadata": {},
   "source": [
    "# 그래프 탐색"
   ]
  },
  {
   "cell_type": "code",
   "execution_count": 3,
   "metadata": {},
   "outputs": [
    {
     "name": "stdout",
     "output_type": "stream",
     "text": [
      "[1, 2, 5, 6, 3, 7, 4, 8, 9]\n",
      "[1, 2, 3, 4, 5, 6, 7, 8, 9]\n"
     ]
    }
   ],
   "source": [
    "node = [[] * (10) for _ in range(10)]\n",
    "# 1번과 연결된 노드\n",
    "node[1].append(2)\n",
    "node[1].append(3)\n",
    "node[1].append(4)\n",
    "\n",
    "# 2번과 연결된 노드\n",
    "node[2].append(5)\n",
    "node[2].append(6)\n",
    "\n",
    "# 3번과 연결된 노드\n",
    "node[3].append(7)\n",
    "\n",
    "# 4번과 연결된 노드\n",
    "node[4].append(8)\n",
    "node[4].append(9)\n",
    "\n",
    "\n",
    "def DFS(start) :\n",
    "    visit.append(start)\n",
    "    for i in node[start] :\n",
    "        if i not in visit :\n",
    "            DFS(i)\n",
    "            \n",
    "def BFS(start) :\n",
    "    queue = [start]\n",
    "    while queue :\n",
    "        val = queue.pop(0)\n",
    "        visit.append(val)\n",
    "        for i in node[val] :\n",
    "            if i not in visit :\n",
    "                queue.append(i)\n",
    "\n",
    "visit = []\n",
    "DFS(1)\n",
    "print(visit)\n",
    "\n",
    "visit = []\n",
    "BFS(1)\n",
    "print(visit)\n"
   ]
  },
  {
   "cell_type": "code",
   "execution_count": 9,
   "metadata": {},
   "outputs": [
    {
     "name": "stdout",
     "output_type": "stream",
     "text": [
      "1 3\n"
     ]
    }
   ],
   "source": [
    "x, _, y = (1,2,3)\n",
    "print(x,y)"
   ]
  },
  {
   "cell_type": "markdown",
   "metadata": {},
   "source": [
    "# 정점의 개수 => 노드의 개수\n",
    "# 간선의 개수 => 그래프 정보의 개수\n",
    "# 양방향?? 우리가 한것은 단방향\n",
    "# 양방향 만들려면 node[a].append(b)\n",
    "#                              node[b].append(a)"
   ]
  },
  {
   "cell_type": "markdown",
   "metadata": {},
   "source": [
    "# 2667번 : 단지번호 붙이기"
   ]
  },
  {
   "cell_type": "markdown",
   "metadata": {},
   "source": [
    "# 시작점이 숫자 → (row,col) "
   ]
  },
  {
   "cell_type": "markdown",
   "metadata": {},
   "source": [
    "## 4방향 탐색\n",
    "## dr = [0,1,0,-1]     \n",
    "## dc = [1,0,-1,0]\n",
    "## (row,col)이 있다고 하면 i = 0,1,2,3(→,↓,←,↑) 탐색 \n",
    "## row + dr[i] \n",
    "## col + dc[i]"
   ]
  },
  {
   "cell_type": "code",
   "execution_count": null,
   "metadata": {},
   "outputs": [],
   "source": [
    "def DFS(row, col) :\n",
    "    # 시작점 방문\n",
    "    visit[row][col] = 1\n",
    "    house[0] += 1\n",
    "    # 4방향 탐색\n",
    "    for i in range(4) :\n",
    "        nxt_row = row + dr[i]\n",
    "        nxt_col = col + dc[i]\n",
    "        # 주변에 집이 있고, 방문한적이 없다면\n",
    "        if A[nxt_row][nxt_col] == 1 and visit[nxt_row][nxt_col] == 0:\n",
    "            DFS(nxt_row, nxt_col)\n",
    "\n",
    "\n",
    "# A[0][0] ~ A[25][25] 2차원 배열을 만들고 값은 0\n",
    "A = [[0 for _ in range(26)] for _ in range(26)]\n",
    "visit = [[0 for _ in range(26)] for _ in range(26)]\n",
    "dr = [0,1,0,-1]\n",
    "dc = [1,0,-1,0]\n",
    "house = [0]\n",
    "ans = []\n",
    "\n",
    "N = int(input())\n",
    "for i in range(N) :\n",
    "    temp = input()\n",
    "    for j in range(len(temp)) :\n",
    "        A[i][j] = int(temp[j])\n",
    "\n",
    "# 2차원 배열의 값이 들어가있는지 확인\n",
    "for i in range(N) :\n",
    "    for j in range(N) :\n",
    "        # 집이 있는 곳이고, 방문한적이 없다면\n",
    "        if A[i][j] == 1 and visit[i][j] == 0:\n",
    "            house[0] = 0\n",
    "            # 탐색(시작점(i,j))\n",
    "            DFS(i,j)\n",
    "            ans.append(house[0])\n",
    "\n",
    "ans.sort()\n",
    "print(len(ans))\n",
    "for i in ans :\n",
    "    print(i)"
   ]
  },
  {
   "cell_type": "code",
   "execution_count": null,
   "metadata": {},
   "outputs": [],
   "source": [
    "def BFS(row, col) :\n",
    "    # 시작점을 큐에 넣는다.\n",
    "    queue = [[row,col]]\n",
    "    visit[row][col] = 1\n",
    "    while queue :\n",
    "        val = queue.pop(0)\n",
    "        house[0] += 1\n",
    "        # 4방향 탐색(오른쪽, 아래, 왼쪽, 위)\n",
    "        for i in range(4) :\n",
    "            nxt_row = val[0] + dr[i]\n",
    "            nxt_col = val[1] + dc[i]\n",
    "            # 집이거나, 방문하지 않았거나\n",
    "            if A[nxt_row][nxt_col] == 1 and visit[nxt_row][nxt_col] == 0 :\n",
    "                visit[nxt_row][nxt_col] = 1\n",
    "                queue.append([nxt_row, nxt_col])\n",
    "\n",
    "# A[0][0] ~ A[25][25] 2차원 배열을 만들고 값은 0\n",
    "A = [[0 for _ in range(26)] for _ in range(26)]\n",
    "visit = [[0 for _ in range(26)] for _ in range(26)]\n",
    "dr = [0,1,0,-1]\n",
    "dc = [1,0,-1,0]\n",
    "house = [0]\n",
    "ans = []\n",
    "\n",
    "N = int(input())\n",
    "for i in range(N) :\n",
    "    temp = input()\n",
    "    for j in range(len(temp)) :\n",
    "        A[i][j] = int(temp[j])\n",
    "\n",
    "# 2차원 배열의 값이 들어가있는지 확인\n",
    "for i in range(N) :\n",
    "    for j in range(N) :\n",
    "        # 집이 있는 곳이고, 방문한적이 없다면\n",
    "        if A[i][j] == 1 and visit[i][j] == 0:\n",
    "            house[0] = 0\n",
    "            # 탐색(시작점(i,j))\n",
    "            BFS(i,j)\n",
    "            ans.append(house[0])\n",
    "\n",
    "ans.sort()\n",
    "print(len(ans))\n",
    "for i in ans :\n",
    "    print(i)"
   ]
  },
  {
   "cell_type": "markdown",
   "metadata": {},
   "source": [
    "# 1012번 유기농 배추"
   ]
  },
  {
   "cell_type": "code",
   "execution_count": null,
   "metadata": {},
   "outputs": [],
   "source": [
    "# 파이썬은 재귀의 깊이가 1000으로 제한되어 있다. 재귀 깊이를 바꾸기 위해\n",
    "# sys.setrecursionlimit(x) x는 새로 지정할 재귀 깊이이다.\n",
    "import sys\n",
    "sys.setrecursionlimit(10000000)\n",
    "\n",
    "def DFS(row, col) :\n",
    "    A[row][col] = 0\n",
    "    for i in range(4) :\n",
    "        nxt_row = row + dr[i]\n",
    "        nxt_col = col + dc[i]\n",
    "        # M x N 행렬 범위 안 0 <= nxt_row < N, 0 <= nxt_col < M\n",
    "        if N > nxt_row > -1 and M > nxt_col > -1 :\n",
    "            if A[nxt_row][nxt_col] == 1 :\n",
    "                DFS(nxt_row, nxt_col)\n",
    "\n",
    "T = int(input())\n",
    "for _ in range(T) :\n",
    "    M, N, K = map(int, input().split())\n",
    "    A = [[0 for _ in range(M)] for _ in range(N)]\n",
    "    for _ in range(K) :\n",
    "        c, r = map(int, input().split())\n",
    "        A[r][c] = 1\n",
    "\n",
    "    dr = [0, 1, 0, -1]\n",
    "    dc = [1, 0, -1, 0]\n",
    "\n",
    "    ans = 0\n",
    "    for i in range(N) :\n",
    "        for j in range(M) :\n",
    "            if A[i][j] == 1 :\n",
    "                DFS(i,j)\n",
    "                ans += 1\n",
    "    print(ans)"
   ]
  },
  {
   "cell_type": "markdown",
   "metadata": {},
   "source": [
    "# 2178번 미로 탐색"
   ]
  },
  {
   "cell_type": "code",
   "execution_count": 2,
   "metadata": {},
   "outputs": [],
   "source": [
    "def BFS(row, col) :\n",
    "    queue = [[row,col]]\n",
    "    visit[row][col] = 1\n",
    "    while queue :\n",
    "        val = queue.pop(0)\n",
    "        for i in range(4) :\n",
    "            nxt_row = val[0] + dr[i]\n",
    "            nxt_col = val[1] + dc[i]\n",
    "            if nxt_row >= 0 and nxt_col >= 0 and nxt_row < N and nxt_col < M :\n",
    "                if A[nxt_row][nxt_col] == '1' and visit[nxt_row][nxt_col] == 0 :\n",
    "                    visit[nxt_row][nxt_col] = visit[val[0]][val[1]] + 1\n",
    "                    queue.append([nxt_row, nxt_col])\n",
    "\n",
    "N, M = map(int, input().split())\n",
    "A = []\n",
    "dr = [0,1,0,-1]\n",
    "dc = [1,0,-1,0]\n",
    "visit = [[0 for _ in range(M)] for _ in range(N)]\n",
    "for i in range(N) :\n",
    "    A.append(input())\n",
    "# 시작점 (0,0), 도착점 (N-1, M-1)\n",
    "BFS(0,0)\n",
    "print(visit[N-1][M-1])\n"
   ]
  },
  {
   "cell_type": "markdown",
   "metadata": {},
   "source": []
  }
 ],
 "metadata": {
  "kernelspec": {
   "display_name": "Python 3",
   "language": "python",
   "name": "python3"
  },
  "language_info": {
   "codemirror_mode": {
    "name": "ipython",
    "version": 3
   },
   "file_extension": ".py",
   "mimetype": "text/x-python",
   "name": "python",
   "nbconvert_exporter": "python",
   "pygments_lexer": "ipython3",
   "version": "3.7.5"
  }
 },
 "nbformat": 4,
 "nbformat_minor": 2
}
